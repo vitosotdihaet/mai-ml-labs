{
 "cells": [
  {
   "cell_type": "markdown",
   "metadata": {},
   "source": [
    "# [Лаба 3 - Временные ряды](https://www.kaggle.com/competitions/mai-ml-contest-time-series/overview)\n",
    "Данное соревнование проводится в рамках курса по Машинному Обучению в МАИ для 3го курса бакалавриата 2024 года.\n",
    "\n",
    "Цель: развить навыки анализа, подготовки данных и построения моделей решающих задачу линейной регрессии по набору данных.\n",
    "\n",
    "Для успешного прохождения соревнования в рамках лабораторной работы необходимо получить значение MSE менее чем 0.02.\n",
    "\n",
    "В коментарии к submit'у вам нужно приложить ссылку на ноутбук которым был получен данный сабмит"
   ]
  },
  {
   "cell_type": "markdown",
   "metadata": {},
   "source": [
    "# Правила:\n",
    "- Разрешено использование сколь угодно сложных моделей, кроме древесных (бустинг, деревья, леса). В том числе для подготовки данных.\n",
    "- Запрещено использовать результаты работы других студентов за исключением обмена опытом (см следующий пункт).\n",
    "- Полное совпадение метрик приведет к пересмотру ваших работ. В случае если выяснится полное заимствование - дисквалификация с соревнований и незачет по лабораторной.\n",
    "\n",
    "# Состав ноутбука:\n",
    "- Блок загрузки данных\n",
    "- Блок анализа данных\n",
    "- Блок подготовки и очистки данных\n",
    "- Блок обучения и тестирования моделей\n",
    "- Блок сабмита"
   ]
  },
  {
   "cell_type": "markdown",
   "metadata": {},
   "source": [
    "# Задача\n",
    "Классическая задача прогноза продаж в сети магазинов.\n",
    "\n",
    "Разные магазины в зависимости от различных факторов могут иметь различные продажи. Чтобы понять сколько товара нужно поставить в магазин, какая ожидается выручка и т.п. нам необходимо уметь предсказывать продажи в магазинах в зависимости от региона, сезона, температуры на улице, стоимости топлива, экономической ситуации и т.д.\n",
    "\n",
    "Ваша задача предсказать продажи магазина на месяц вперед (4 недели) на основе истории.\n",
    "\n",
    "## Входные данные\n",
    "- Файлы\n",
    "  - train.csv - тренировочный набор данных. С этим набором вы делаете все что хотите, там есть true значения и все фичи.\n",
    "  - test.csv - тестовый набор данных. Здесь вам истинные значения будут не известны. Вы лишь можете сделать сабмит с помощью этого набора.\n",
    "\n",
    "Описание столбцов\n",
    "| название | описание |\n",
    "|-|-|\n",
    "| Store | ID магазина |\n",
    "| Date | дата на момент фиксации фич |\n",
    "| Weekly_Sales | продажи за неделю |\n",
    "| Temperature | средняя температура за неделю в городе расположения магазина (в градусах Фарингейта) |\n",
    "| Fuel_Price | цена топлива в данном регионе |\n",
    "| CPI | индекс потребительских цен |\n",
    "| Unemployment | уровень безработици в регионе |\n",
    "\n",
    "Ваша цель - предсказать Weekly_Sales на 4 измерения вперед (на месяц).\n",
    "\n",
    "Порог прохождения лабораторки - MAPE < 0.1"
   ]
  },
  {
   "cell_type": "markdown",
   "metadata": {},
   "source": [
    "# Поехали"
   ]
  },
  {
   "cell_type": "code",
   "execution_count": 4,
   "metadata": {},
   "outputs": [],
   "source": [
    "import pandas as pd\n",
    "\n",
    "import numpy as np\n",
    "\n",
    "from sklearn.model_selection import train_test_split\n",
    "from sklearn.preprocessing import OneHotEncoder, StandardScaler\n",
    "from sklearn.linear_model import LinearRegression, ElasticNet\n",
    "from sklearn import metrics\n",
    "\n",
    "import plotly.graph_objects as go\n",
    "from plotly.subplots import make_subplots"
   ]
  },
  {
   "cell_type": "code",
   "execution_count": 5,
   "metadata": {},
   "outputs": [],
   "source": [
    "train_data_path = 'train.csv'\n",
    "test_data_path = 'test.csv'\n",
    "id_column = 'ID'"
   ]
  },
  {
   "cell_type": "code",
   "execution_count": 6,
   "metadata": {},
   "outputs": [],
   "source": [
    "initial_df = pd.read_csv(train_data_path)"
   ]
  },
  {
   "cell_type": "markdown",
   "metadata": {},
   "source": [
    "# Submission"
   ]
  },
  {
   "cell_type": "code",
   "execution_count": null,
   "metadata": {},
   "outputs": [],
   "source": [
    "data = {\n",
    "    \"Weekly_Sales\": y_predict\n",
    "}\n",
    "\n",
    "submit = pd.DataFrame(data)\n",
    "submit.to_csv('submission.csv')"
   ]
  }
 ],
 "metadata": {
  "kernelspec": {
   "display_name": "venv",
   "language": "python",
   "name": "python3"
  },
  "language_info": {
   "codemirror_mode": {
    "name": "ipython",
    "version": 3
   },
   "file_extension": ".py",
   "mimetype": "text/x-python",
   "name": "python",
   "nbconvert_exporter": "python",
   "pygments_lexer": "ipython3",
   "version": "3.11.0"
  }
 },
 "nbformat": 4,
 "nbformat_minor": 2
}
